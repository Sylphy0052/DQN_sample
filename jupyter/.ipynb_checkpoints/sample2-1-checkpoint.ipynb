{
 "cells": [
  {
   "cell_type": "code",
   "execution_count": 1,
   "metadata": {},
   "outputs": [],
   "source": [
    "import numpy as np\n",
    "import matplotlib.pyplot as plt\n",
    "%matplotlib inline"
   ]
  },
  {
   "cell_type": "code",
   "execution_count": 2,
   "metadata": {},
   "outputs": [
    {
     "data": {
      "image/png": "[encoded data removed]",
      "text/plain": [
       "<Figure size 360x360 with 1 Axes>"
      ]
     },
     "metadata": {
      "needs_background": "light"
     },
     "output_type": "display_data"
    }
   ],
   "source": [
    "# マップ作成\n",
    "fig = plt.figure(figsize=(5, 5))\n",
    "ax = plt.gca()\n",
    "\n",
    "# 壁を書く\n",
    "plt.plot([1, 1], [0, 1], color='red', linewidth=2)\n",
    "plt.plot([1, 2], [2, 2], color='red', linewidth=2)\n",
    "plt.plot([2, 2], [2, 1], color='red', linewidth=2)\n",
    "plt.plot([2, 3], [1, 1], color='red', linewidth=2)\n",
    "\n",
    "# 状態を書く\n",
    "plt.text(0.5, 2.5, 'S0', size=14, ha='center')\n",
    "plt.text(1.5, 2.5, 'S1', size=14, ha='center')\n",
    "plt.text(2.5, 2.5, 'S2', size=14, ha='center')\n",
    "plt.text(0.5, 1.5, 'S3', size=14, ha='center')\n",
    "plt.text(1.5, 1.5, 'S4', size=14, ha='center')\n",
    "plt.text(2.5, 1.5, 'S5', size=14, ha='center')\n",
    "plt.text(0.5, 0.5, 'S6', size=14, ha='center')\n",
    "plt.text(1.5, 0.5, 'S7', size=14, ha='center')\n",
    "plt.text(2.5, 0.5, 'S8', size=14, ha='center')\n",
    "plt.text(0.5, 2.3, 'START', size=14, ha='center')\n",
    "plt.text(2.5, 0.3, 'GOAL', ha='center')\n",
    "\n",
    "# 設定\n",
    "ax.set_xlim(0, 3)\n",
    "ax.set_ylim(0, 3)\n",
    "plt.tick_params(axis='both', which='both', bottom='off', top='off', labelbottom='off', right='off', left='off', labelleft='off')\n",
    "\n",
    "line, = ax.plot([0.5], [2.5], marker='o', color='g', markersize=60)\n",
    "plt.savefig('fig1.png', bbox_inches='tight')"
   ]
  },
  {
   "cell_type": "code",
   "execution_count": 3,
   "metadata": {},
   "outputs": [],
   "source": [
    "# 方策のパラメータを設定\n",
    "theta_0 = np.array([\n",
    "    [np.nan, 1, 1, np.nan], # s0\n",
    "    [np.nan, 1, np.nan, 1], # s1\n",
    "    [np.nan, np.nan, 1, 1], # s2\n",
    "    [1, 1, 1, np.nan], # s3\n",
    "    [np.nan, np.nan, 1, 1], # s4\n",
    "    [1, np.nan, np.nan, np.nan], #s5\n",
    "    [1, np.nan, np.nan, np.nan], # s6\n",
    "    [1, 1, np.nan, np.nan] #s7\n",
    "])"
   ]
  },
  {
   "cell_type": "code",
   "execution_count": 4,
   "metadata": {},
   "outputs": [],
   "source": [
    "# 方策に変換する関数\n",
    "def simple_convert_into_pi_from_theta(theta):\n",
    "    [m, n] = theta.shape\n",
    "    pi = np.zeros((m, n))\n",
    "    for i in range(0, m):\n",
    "        pi[i, :] = theta[i, :] / np.nansum(theta[i, :])\n",
    "        \n",
    "    pi = np.nan_to_num(pi)\n",
    "    \n",
    "    return pi"
   ]
  },
  {
   "cell_type": "code",
   "execution_count": 5,
   "metadata": {},
   "outputs": [
    {
     "data": {
      "text/plain": [
       "array([[0.        , 0.5       , 0.5       , 0.        ],\n",
       "       [0.        , 0.5       , 0.        , 0.5       ],\n",
       "       [0.        , 0.        , 0.5       , 0.5       ],\n",
       "       [0.33333333, 0.33333333, 0.33333333, 0.        ],\n",
       "       [0.        , 0.        , 0.5       , 0.5       ],\n",
       "       [1.        , 0.        , 0.        , 0.        ],\n",
       "       [1.        , 0.        , 0.        , 0.        ],\n",
       "       [0.5       , 0.5       , 0.        , 0.        ]])"
      ]
     },
     "execution_count": 5,
     "metadata": {},
     "output_type": "execute_result"
    }
   ],
   "source": [
    "pi_0 = simple_convert_into_pi_from_theta(theta_0)\n",
    "pi_0"
   ]
  },
  {
   "cell_type": "code",
   "execution_count": 6,
   "metadata": {},
   "outputs": [],
   "source": [
    "def get_next_s(pi, s):\n",
    "    direction = ['up', 'right', 'down', 'left']\n",
    "    next_direction = np.random.choice(direction, p=pi[s, :])\n",
    "    \n",
    "    if next_direction == 'up':\n",
    "        s_next = s - 3\n",
    "    elif next_direction == 'right':\n",
    "        s_next = s + 1\n",
    "    elif next_direction == 'down':\n",
    "        s_next = s + 3\n",
    "    elif next_direction == 'left':\n",
    "        s_next = s - 1\n",
    "        \n",
    "    return s_next"
   ]
  },
  {
   "cell_type": "code",
   "execution_count": 7,
   "metadata": {},
   "outputs": [],
   "source": [
    "def goal_maze(pi):\n",
    "    s = 0\n",
    "    state_history = [0]\n",
    "    while True:\n",
    "        next_s = get_next_s(pi, s)\n",
    "        state_history.append(next_s)\n",
    "        \n",
    "        if next_s == 8:\n",
    "            break\n",
    "        else:\n",
    "            s = next_s\n",
    "        \n",
    "    return state_history"
   ]
  },
  {
   "cell_type": "code",
   "execution_count": 8,
   "metadata": {},
   "outputs": [],
   "source": [
    "state_history = goal_maze(pi_0)"
   ]
  },
  {
   "cell_type": "code",
   "execution_count": 9,
   "metadata": {},
   "outputs": [
    {
     "name": "stdout",
     "output_type": "stream",
     "text": [
      "[0, 3, 4, 7, 4, 7, 4, 7, 4, 3, 4, 3, 6, 3, 4, 3, 6, 3, 0, 3, 4, 7, 4, 3, 4, 3, 4, 7, 4, 3, 0, 3, 4, 7, 4, 7, 4, 7, 4, 7, 4, 3, 6, 3, 4, 7, 4, 3, 4, 7, 8]\n",
      "迷路を解くのにかかったステップ数は50です\n"
     ]
    }
   ],
   "source": [
    "print(state_history)\n",
    "print('迷路を解くのにかかったステップ数は' + str(len(state_history) - 1) + 'です')"
   ]
  },
  {
   "cell_type": "code",
   "execution_count": 10,
   "metadata": {},
   "outputs": [],
   "source": [
    "from matplotlib import animation\n",
    "from IPython.display import HTML\n",
    "%matplotlib notebook"
   ]
  },
  {
   "cell_type": "code",
   "execution_count": 11,
   "metadata": {},
   "outputs": [],
   "source": [
    "def init():\n",
    "    line.set_data([], [])\n",
    "    return (line,)"
   ]
  },
  {
   "cell_type": "code",
   "execution_count": 12,
   "metadata": {},
   "outputs": [],
   "source": [
    "def animate(i):\n",
    "    state = state_history[i]\n",
    "    x = (state % 3) + 0.5\n",
    "    y = 2.5 - int(state / 3)\n",
    "    line.set_data(x, y)\n",
    "    return (line,)"
   ]
  },
  {
   "cell_type": "code",
   "execution_count": 15,
   "metadata": {},
   "outputs": [
    {
     "name": "stderr",
     "output_type": "stream",
     "text": [
      "MovieWriter imagemagick unavailable; trying to use <class 'matplotlib.animation.PillowWriter'> instead.\n"
     ]
    }
   ],
   "source": [
    "anim = animation.FuncAnimation(fig, animate, init_func=init, frames=len(state_history), interval=200, repeat=False)\n",
    "HTML(anim.to_jshtml())\n",
    "anim.save('animation1.gif', writer='imagemagick')"
   ]
  },
  {
   "cell_type": "code",
   "execution_count": 22,
   "metadata": {},
   "outputs": [],
   "source": [
    "def softmax_convert_into_pi_from_theta(theta):\n",
    "    beta = 1.0\n",
    "    [m, n] = theta.shape\n",
    "    pi = np.zeros((m, n))\n",
    "    \n",
    "    exp_theta = np.exp(beta * theta)\n",
    "    \n",
    "    for i in range(0, m):\n",
    "        pi[i, :] = exp_theta[i, :] / np.nansum(exp_theta[i, :])\n",
    "        \n",
    "    pi = np.nan_to_num(pi)\n",
    "    \n",
    "    return pi"
   ]
  },
  {
   "cell_type": "code",
   "execution_count": 23,
   "metadata": {},
   "outputs": [
    {
     "name": "stdout",
     "output_type": "stream",
     "text": [
      "[[0.         0.5        0.5        0.        ]\n",
      " [0.         0.5        0.         0.5       ]\n",
      " [0.         0.         0.5        0.5       ]\n",
      " [0.33333333 0.33333333 0.33333333 0.        ]\n",
      " [0.         0.         0.5        0.5       ]\n",
      " [1.         0.         0.         0.        ]\n",
      " [1.         0.         0.         0.        ]\n",
      " [0.5        0.5        0.         0.        ]]\n"
     ]
    }
   ],
   "source": [
    "pi_0 = softmax_convert_into_pi_from_theta(theta_0)\n",
    "print(pi_0)"
   ]
  },
  {
   "cell_type": "code",
   "execution_count": 24,
   "metadata": {},
   "outputs": [],
   "source": [
    "def get_action_and_next_s(pi, s):\n",
    "    direction = ['up', 'right', 'down', 'left']\n",
    "    next_direction = np.random.choice(direction, p=pi[s, :])\n",
    "    \n",
    "    if next_direction == 'up':\n",
    "        action = 0\n",
    "        s_next = s - 3\n",
    "    elif next_direction == 'right':\n",
    "        action = 1\n",
    "        s_next = s + 1\n",
    "    elif next_direction == 'down':\n",
    "        action = 2\n",
    "        s_next = s + 3\n",
    "    elif next_direction == 'left':\n",
    "        action = 3\n",
    "        s_next = s - 1\n",
    "        \n",
    "    return [action, s_next]"
   ]
  },
  {
   "cell_type": "code",
   "execution_count": 25,
   "metadata": {},
   "outputs": [],
   "source": [
    "def goal_maze_ret_s_a(pi):\n",
    "    s = 0\n",
    "    s_a_history = [[0, np.nan]]\n",
    "    while True:\n",
    "        [action, next_s] = get_action_and_next_s(pi, s)\n",
    "        # 最新の状態の行動を記録する\n",
    "        s_a_history[-1][1] = action\n",
    "        s_a_history.append([next_s, np.nan])\n",
    "        \n",
    "        if next_s == 8:\n",
    "            break\n",
    "        else:\n",
    "            s = next_s\n",
    "        \n",
    "    return s_a_history"
   ]
  },
  {
   "cell_type": "code",
   "execution_count": 26,
   "metadata": {},
   "outputs": [
    {
     "name": "stdout",
     "output_type": "stream",
     "text": [
      "[[0, 1], [1, 3], [0, 2], [3, 1], [4, 3], [3, 2], [6, 0], [3, 2], [6, 0], [3, 0], [0, 2], [3, 0], [0, 2], [3, 1], [4, 3], [3, 0], [0, 2], [3, 1], [4, 2], [7, 0], [4, 2], [7, 1], [8, nan]]\n",
      "迷路を解くのにかかったステップ数は22です\n"
     ]
    }
   ],
   "source": [
    "s_a_history = goal_maze_ret_s_a(pi_0)\n",
    "print(s_a_history)\n",
    "print('迷路を解くのにかかったステップ数は' + str(len(s_a_history) - 1) + 'です')"
   ]
  },
  {
   "cell_type": "code",
   "execution_count": 27,
   "metadata": {},
   "outputs": [],
   "source": [
    "def update_theta(theta, pi, s_a_history):\n",
    "    eta = 0.1\n",
    "    T = len(s_a_history) - 1\n",
    "    [m, n] = theta.shape\n",
    "    delta_theta = theta.copy()\n",
    "    \n",
    "    for i in range(0, m):\n",
    "        for j in range(0, n):\n",
    "            if not(np.isnan(theta[i, j])):\n",
    "                SA_i = [SA for SA in s_a_history if SA[0] == i]\n",
    "                SA_ij = [SA for SA in s_a_history if SA == [i, j]]\n",
    "                \n",
    "                N_i = len(SA_i)\n",
    "                N_ij = len(SA_ij)\n",
    "                delta_theta[i, j] = (N_ij + pi[i, j] * N_i) / T\n",
    "                \n",
    "    new_theta = theta + etta * delta_theta\n",
    "    return new_theta"
   ]
  },
  {
   "cell_type": "code",
   "execution_count": null,
   "metadata": {},
   "outputs": [],
   "source": []
  }
 ],
 "metadata": {
  "kernelspec": {
   "display_name": "Python 3",
   "language": "python",
   "name": "python3"
  },
  "language_info": {
   "codemirror_mode": {
    "name": "ipython",
    "version": 3
   },
   "file_extension": ".py",
   "mimetype": "text/x-python",
   "name": "python",
   "nbconvert_exporter": "python",
   "pygments_lexer": "ipython3",
   "version": "3.7.4"
  }
 },
 "nbformat": 4,
 "nbformat_minor": 2
}
